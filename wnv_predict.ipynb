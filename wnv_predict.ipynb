{
 "cells": [
  {
   "cell_type": "markdown",
   "metadata": {},
   "source": [
    "Lets do this!"
   ]
  },
  {
   "cell_type": "code",
   "execution_count": null,
   "metadata": {},
   "outputs": [],
   "source": [
    "import pandas as pd\n",
    "import numpy as np\n",
    "import matplotlib.pyplot as plt\n",
    "%matplotlib inline"
   ]
  },
  {
   "cell_type": "code",
   "execution_count": null,
   "metadata": {},
   "outputs": [],
   "source": [
    "#This sends warning messages to the cornfield\n",
    "\n",
    "import warnings\n",
    "def ignore_warnings(*args, **kwargs):\n",
    "    pass\n",
    "warnings.warn = ignore_warnings"
   ]
  },
  {
   "cell_type": "code",
   "execution_count": null,
   "metadata": {},
   "outputs": [],
   "source": [
    "spray = pd.read_csv(\"./all/spray.csv\")\n",
    "weather = pd.read_csv(\"./all/weather.csv\")\n",
    "train = pd.read_csv(\"./all/train.csv\")\n",
    "test = pd.read_csv(\"./all/test.csv\")"
   ]
  },
  {
   "cell_type": "markdown",
   "metadata": {},
   "source": [
    "#### EDA"
   ]
  },
  {
   "cell_type": "markdown",
   "metadata": {},
   "source": [
    "Spray Dataset"
   ]
  },
  {
   "cell_type": "code",
   "execution_count": null,
   "metadata": {},
   "outputs": [],
   "source": [
    "spray.head()"
   ]
  },
  {
   "cell_type": "code",
   "execution_count": null,
   "metadata": {},
   "outputs": [],
   "source": [
    "spray.shape"
   ]
  },
  {
   "cell_type": "code",
   "execution_count": null,
   "metadata": {},
   "outputs": [],
   "source": [
    "spray.dtypes"
   ]
  },
  {
   "cell_type": "code",
   "execution_count": null,
   "metadata": {},
   "outputs": [],
   "source": [
    "spray.isnull().sum()"
   ]
  },
  {
   "cell_type": "code",
   "execution_count": null,
   "metadata": {},
   "outputs": [],
   "source": [
    "spray[spray[\"Time\"].isnull()].head()"
   ]
  },
  {
   "cell_type": "markdown",
   "metadata": {},
   "source": [
    "Observations:\n",
    "- Null values are from 1 date, 9/7/2011\n",
    "- Should potentially change date column into datetime object."
   ]
  },
  {
   "cell_type": "markdown",
   "metadata": {},
   "source": [
    "Weather Dataset"
   ]
  },
  {
   "cell_type": "code",
   "execution_count": null,
   "metadata": {},
   "outputs": [],
   "source": [
    "weather.head()"
   ]
  },
  {
   "cell_type": "code",
   "execution_count": null,
   "metadata": {},
   "outputs": [],
   "source": [
    "weather.shape"
   ]
  },
  {
   "cell_type": "code",
   "execution_count": null,
   "metadata": {},
   "outputs": [],
   "source": [
    "weather.dtypes"
   ]
  },
  {
   "cell_type": "code",
   "execution_count": null,
   "metadata": {},
   "outputs": [],
   "source": [
    "# weather.isnull().sum()"
   ]
  },
  {
   "cell_type": "code",
   "execution_count": null,
   "metadata": {},
   "outputs": [],
   "source": [
    "weather[\"Tmax\"].value_counts().sort_values(ascending=False).head()"
   ]
  },
  {
   "cell_type": "code",
   "execution_count": null,
   "metadata": {},
   "outputs": [],
   "source": [
    "weather[weather[\"Tmax\"].apply(type) != int]"
   ]
  },
  {
   "cell_type": "code",
   "execution_count": null,
   "metadata": {},
   "outputs": [],
   "source": [
    "weather[\"Tmin\"].value_counts().sort_values(ascending=False).head()"
   ]
  },
  {
   "cell_type": "code",
   "execution_count": null,
   "metadata": {},
   "outputs": [],
   "source": [
    "weather[weather[\"Tavg\"] == \"M\"]"
   ]
  },
  {
   "cell_type": "code",
   "execution_count": null,
   "metadata": {},
   "outputs": [],
   "source": [
    "weather[weather[\"Tavg\"] == \"T\"]"
   ]
  },
  {
   "cell_type": "code",
   "execution_count": null,
   "metadata": {},
   "outputs": [],
   "source": [
    "weather[\"Tavg\"].value_counts().sort_values(ascending=False).head()"
   ]
  },
  {
   "cell_type": "code",
   "execution_count": null,
   "metadata": {},
   "outputs": [],
   "source": [
    "weather[\"Depart\"].value_counts().sort_values(ascending=False).head()"
   ]
  },
  {
   "cell_type": "code",
   "execution_count": null,
   "metadata": {},
   "outputs": [],
   "source": [
    "weather[weather[\"Depart\"] == \"M\"]"
   ]
  },
  {
   "cell_type": "code",
   "execution_count": null,
   "metadata": {},
   "outputs": [],
   "source": [
    "weather[weather[\"Depart\"] == \"T\"]"
   ]
  },
  {
   "cell_type": "code",
   "execution_count": null,
   "metadata": {},
   "outputs": [],
   "source": [
    "weather[\"DewPoint\"].value_counts().sort_values(ascending=False).head()"
   ]
  },
  {
   "cell_type": "code",
   "execution_count": null,
   "metadata": {},
   "outputs": [],
   "source": [
    "weather[\"WetBulb\"].value_counts().sort_values(ascending=False).head()"
   ]
  },
  {
   "cell_type": "code",
   "execution_count": null,
   "metadata": {},
   "outputs": [],
   "source": [
    "# weather[weather[\"WetBulb\"] == \"M\"]"
   ]
  },
  {
   "cell_type": "code",
   "execution_count": null,
   "metadata": {},
   "outputs": [],
   "source": [
    "# weather[weather[\"WetBulb\"] == \"T\"]"
   ]
  },
  {
   "cell_type": "code",
   "execution_count": null,
   "metadata": {},
   "outputs": [],
   "source": [
    "weather[\"Heat\"].value_counts().sort_values(ascending=False)"
   ]
  },
  {
   "cell_type": "code",
   "execution_count": null,
   "metadata": {},
   "outputs": [],
   "source": [
    "# weather[weather[\"Heat\"] == \"M\"]"
   ]
  },
  {
   "cell_type": "code",
   "execution_count": null,
   "metadata": {},
   "outputs": [],
   "source": [
    "weather[weather[\"Heat\"] == \"T\"]"
   ]
  },
  {
   "cell_type": "code",
   "execution_count": null,
   "metadata": {},
   "outputs": [],
   "source": [
    "weather[\"Cool\"].value_counts().sort_values(ascending=False)"
   ]
  },
  {
   "cell_type": "code",
   "execution_count": null,
   "metadata": {},
   "outputs": [],
   "source": [
    "weather[\"Sunrise\"].value_counts().sort_values(ascending=False).head()"
   ]
  },
  {
   "cell_type": "code",
   "execution_count": null,
   "metadata": {},
   "outputs": [],
   "source": [
    "weather[\"Sunset\"].value_counts().sort_values(ascending=False).head()"
   ]
  },
  {
   "cell_type": "code",
   "execution_count": null,
   "metadata": {},
   "outputs": [],
   "source": [
    "weather[\"Depth\"].value_counts()"
   ]
  },
  {
   "cell_type": "code",
   "execution_count": null,
   "metadata": {},
   "outputs": [],
   "source": [
    "weather[\"SnowFall\"].value_counts()"
   ]
  },
  {
   "cell_type": "code",
   "execution_count": null,
   "metadata": {},
   "outputs": [],
   "source": [
    "#Drop column\n",
    "weather[\"Water1\"].value_counts()"
   ]
  },
  {
   "cell_type": "code",
   "execution_count": null,
   "metadata": {},
   "outputs": [],
   "source": [
    "#Drop column\n",
    "weather[\"CodeSum\"].value_counts().head()"
   ]
  },
  {
   "cell_type": "code",
   "execution_count": null,
   "metadata": {},
   "outputs": [],
   "source": [
    "weather[\"PrecipTotal\"].value_counts().sort_values(ascending=False).head()"
   ]
  },
  {
   "cell_type": "code",
   "execution_count": null,
   "metadata": {},
   "outputs": [],
   "source": [
    "weather[\"StnPressure\"].value_counts().sort_values(ascending=False).head()"
   ]
  },
  {
   "cell_type": "code",
   "execution_count": null,
   "metadata": {},
   "outputs": [],
   "source": [
    "weather[\"SeaLevel\"].value_counts().sort_values(ascending=False).head()"
   ]
  },
  {
   "cell_type": "code",
   "execution_count": null,
   "metadata": {},
   "outputs": [],
   "source": [
    "weather[\"ResultSpeed\"].value_counts().sort_values(ascending=False).head()"
   ]
  },
  {
   "cell_type": "code",
   "execution_count": null,
   "metadata": {},
   "outputs": [],
   "source": [
    "weather[\"ResultDir\"].value_counts().sort_values(ascending=False).head()"
   ]
  },
  {
   "cell_type": "code",
   "execution_count": null,
   "metadata": {},
   "outputs": [],
   "source": [
    "weather[\"AvgSpeed\"].value_counts().sort_values(ascending=False).head()"
   ]
  },
  {
   "cell_type": "code",
   "execution_count": null,
   "metadata": {},
   "outputs": [],
   "source": [
    "weather.replace(\"T\", 1e-3, inplace = True)\n",
    "weather.replace(\" T\", 1e-3, inplace = True)\n",
    "weather.replace(\"  T\", 1e-3, inplace = True)"
   ]
  },
  {
   "cell_type": "code",
   "execution_count": null,
   "metadata": {},
   "outputs": [],
   "source": [
    "weather.drop(\"CodeSum\", axis = 1, inplace = True)"
   ]
  },
  {
   "cell_type": "code",
   "execution_count": null,
   "metadata": {},
   "outputs": [],
   "source": [
    "weather.drop(\"Water1\", axis = 1, inplace = True)"
   ]
  },
  {
   "cell_type": "code",
   "execution_count": null,
   "metadata": {},
   "outputs": [],
   "source": [
    "weather.drop(\"SnowFall\", axis = 1, inplace = True)"
   ]
  },
  {
   "cell_type": "code",
   "execution_count": null,
   "metadata": {},
   "outputs": [],
   "source": [
    "weather.drop(\"Depth\", axis = 1, inplace = True)"
   ]
  },
  {
   "cell_type": "code",
   "execution_count": null,
   "metadata": {},
   "outputs": [],
   "source": [
    "weather"
   ]
  },
  {
   "cell_type": "code",
   "execution_count": null,
   "metadata": {},
   "outputs": [],
   "source": [
    "weather_1 = weather[weather['Station']==1]\n",
    "weather_2 = weather[weather['Station']==2]"
   ]
  },
  {
   "cell_type": "code",
   "execution_count": null,
   "metadata": {},
   "outputs": [],
   "source": [
    "weather_combined = weather_1.merge(weather_2, on='Date', suffixes=(\"_1\", \"_2\"))"
   ]
  },
  {
   "cell_type": "code",
   "execution_count": null,
   "metadata": {},
   "outputs": [],
   "source": [
    "weather_combined.shape\n",
    "pd.set_option(\"display.max_columns\", 40)\n",
    "weather_combined.head()"
   ]
  },
  {
   "cell_type": "code",
   "execution_count": null,
   "metadata": {},
   "outputs": [],
   "source": [
    "weather_combined.drop(\"Station_1\", axis = 1, inplace = True)\n",
    "weather_combined.drop(\"Station_2\", axis = 1, inplace = True)"
   ]
  },
  {
   "cell_type": "code",
   "execution_count": null,
   "metadata": {},
   "outputs": [],
   "source": [
    "weather_combined[\"Tavg_2\"].replace(\"M\", (weather_combined[\"Tmax_2\"] + weather_combined[\"Tmin_2\"])/2, inplace=True)"
   ]
  },
  {
   "cell_type": "code",
   "execution_count": null,
   "metadata": {},
   "outputs": [],
   "source": [
    "weather_combined[\"Heat_2\"].replace(\"M\", weather_combined[\"Heat_1\"], inplace = True)"
   ]
  },
  {
   "cell_type": "code",
   "execution_count": null,
   "metadata": {},
   "outputs": [],
   "source": [
    "weather_combined[\"Cool_2\"].replace(\"M\", weather_combined[\"Cool_1\"], inplace = True)"
   ]
  },
  {
   "cell_type": "code",
   "execution_count": null,
   "metadata": {},
   "outputs": [],
   "source": [
    "weather_combined[\"Date\"] = pd.to_datetime(weather_combined[\"Date\"])"
   ]
  },
  {
   "cell_type": "code",
   "execution_count": null,
   "metadata": {},
   "outputs": [],
   "source": [
    "weather_combined.drop(\"Sunrise_2\", axis = 1, inplace = True)"
   ]
  },
  {
   "cell_type": "code",
   "execution_count": null,
   "metadata": {},
   "outputs": [],
   "source": [
    "weather_combined.drop(\"Sunset_2\", axis = 1, inplace = True)"
   ]
  },
  {
   "cell_type": "code",
   "execution_count": null,
   "metadata": {},
   "outputs": [],
   "source": [
    "weather_combined.head()"
   ]
  },
  {
   "cell_type": "markdown",
   "metadata": {},
   "source": [
    "Observations:\n"
   ]
  },
  {
   "cell_type": "markdown",
   "metadata": {},
   "source": [
    "Train Dataset"
   ]
  },
  {
   "cell_type": "code",
   "execution_count": null,
   "metadata": {},
   "outputs": [],
   "source": [
    "train.head()"
   ]
  },
  {
   "cell_type": "code",
   "execution_count": null,
   "metadata": {},
   "outputs": [],
   "source": [
    "train.shape"
   ]
  },
  {
   "cell_type": "code",
   "execution_count": null,
   "metadata": {},
   "outputs": [],
   "source": [
    "train.dtypes"
   ]
  },
  {
   "cell_type": "code",
   "execution_count": null,
   "metadata": {},
   "outputs": [],
   "source": [
    "train.isnull().sum()"
   ]
  },
  {
   "cell_type": "code",
   "execution_count": null,
   "metadata": {},
   "outputs": [],
   "source": [
    "train[\"Species\"].value_counts()"
   ]
  },
  {
   "cell_type": "code",
   "execution_count": null,
   "metadata": {},
   "outputs": [],
   "source": [
    "train[\"Address\"].value_counts().head()"
   ]
  },
  {
   "cell_type": "code",
   "execution_count": null,
   "metadata": {},
   "outputs": [],
   "source": [
    "train[\"WnvPresent\"].value_counts(normalize = True)"
   ]
  },
  {
   "cell_type": "markdown",
   "metadata": {},
   "source": [
    "Observations:\n",
    "- Classes are imbalanced. Will need to balance.\n",
    "- Should potentially change date column into datetime object."
   ]
  },
  {
   "cell_type": "markdown",
   "metadata": {},
   "source": [
    "Test Dataset"
   ]
  },
  {
   "cell_type": "code",
   "execution_count": null,
   "metadata": {},
   "outputs": [],
   "source": [
    "test.head(20)"
   ]
  },
  {
   "cell_type": "code",
   "execution_count": null,
   "metadata": {},
   "outputs": [],
   "source": [
    "test.shape"
   ]
  },
  {
   "cell_type": "code",
   "execution_count": null,
   "metadata": {},
   "outputs": [],
   "source": [
    "test.dtypes"
   ]
  },
  {
   "cell_type": "code",
   "execution_count": null,
   "metadata": {},
   "outputs": [],
   "source": [
    "test[\"Species\"].value_counts()"
   ]
  },
  {
   "cell_type": "code",
   "execution_count": null,
   "metadata": {},
   "outputs": [],
   "source": [
    "test[\"Address\"].value_counts().head()"
   ]
  },
  {
   "cell_type": "markdown",
   "metadata": {},
   "source": [
    "Observations:\n",
    "- Does not contain NumMosquitos column; should not be used as a predictor.\n",
    "- Should potentially change date column into datetime object.\n",
    "- Not all cats are present in both train and test sets, need to fix before creating dummy variables"
   ]
  },
  {
   "cell_type": "markdown",
   "metadata": {},
   "source": [
    "#### Spray data edits"
   ]
  },
  {
   "cell_type": "code",
   "execution_count": null,
   "metadata": {},
   "outputs": [],
   "source": [
    "spray.head()"
   ]
  },
  {
   "cell_type": "code",
   "execution_count": null,
   "metadata": {},
   "outputs": [],
   "source": [
    "columns =  ['Time']\n",
    "spray.drop(columns, inplace=True, axis=1)"
   ]
  },
  {
   "cell_type": "code",
   "execution_count": null,
   "metadata": {},
   "outputs": [],
   "source": [
    "from datetime import datetime\n",
    "spray['Date'] = pd.DatetimeIndex(spray['Date'])"
   ]
  },
  {
   "cell_type": "code",
   "execution_count": null,
   "metadata": {},
   "outputs": [],
   "source": [
    "spray.head()"
   ]
  },
  {
   "cell_type": "markdown",
   "metadata": {},
   "source": [
    "#### Spray outliers: show and remove"
   ]
  },
  {
   "cell_type": "code",
   "execution_count": null,
   "metadata": {},
   "outputs": [],
   "source": [
    "import seaborn as sns\n",
    "sns.boxplot(spray['Latitude'])"
   ]
  },
  {
   "cell_type": "code",
   "execution_count": null,
   "metadata": {},
   "outputs": [],
   "source": [
    "sns.boxplot(spray['Longitude'],color='green')"
   ]
  },
  {
   "cell_type": "code",
   "execution_count": null,
   "metadata": {},
   "outputs": [],
   "source": [
    "spray[spray.Longitude<=-87.9].shape[0]"
   ]
  },
  {
   "cell_type": "code",
   "execution_count": null,
   "metadata": {},
   "outputs": [],
   "source": [
    "spray[spray.Latitude>=42.1].shape[0]"
   ]
  },
  {
   "cell_type": "markdown",
   "metadata": {},
   "source": [
    "Create filter for Longitude outliers"
   ]
  },
  {
   "cell_type": "code",
   "execution_count": null,
   "metadata": {},
   "outputs": [],
   "source": [
    "long_ol = spray['Longitude']<=-87.9\n",
    "spray[long_ol].shape"
   ]
  },
  {
   "cell_type": "code",
   "execution_count": null,
   "metadata": {},
   "outputs": [],
   "source": [
    "spray[~long_ol].shape"
   ]
  },
  {
   "cell_type": "markdown",
   "metadata": {},
   "source": [
    "Remove spray outliers"
   ]
  },
  {
   "cell_type": "code",
   "execution_count": null,
   "metadata": {},
   "outputs": [],
   "source": [
    "spray.shape"
   ]
  },
  {
   "cell_type": "code",
   "execution_count": null,
   "metadata": {},
   "outputs": [],
   "source": [
    "spray = spray[~long_ol]"
   ]
  },
  {
   "cell_type": "code",
   "execution_count": null,
   "metadata": {},
   "outputs": [],
   "source": [
    "spray.shape"
   ]
  },
  {
   "cell_type": "markdown",
   "metadata": {},
   "source": [
    "#### Add Airport Locations"
   ]
  },
  {
   "cell_type": "markdown",
   "metadata": {},
   "source": [
    "Station 1: CHICAGO O'HARE INTERNATIONAL AIRPORT Lat: 41.995 Lon: -87.933 Elev: 662 ft. above sea level<br>\n",
    "Station 2: CHICAGO MIDWAY INTL ARPT Lat: 41.786 Lon: -87.752 Elev: 612 ft. above sea level"
   ]
  },
  {
   "cell_type": "code",
   "execution_count": null,
   "metadata": {},
   "outputs": [],
   "source": [
    "#ohare, midway locations\n",
    "airport_lat  = [41.995, 41.786]\n",
    "airport_long = [-87.933,-87.752]"
   ]
  },
  {
   "cell_type": "code",
   "execution_count": null,
   "metadata": {},
   "outputs": [],
   "source": [
    "a_lat = pd.Series(airport_lat)\n",
    "a_long = pd.Series(airport_long)"
   ]
  },
  {
   "cell_type": "markdown",
   "metadata": {},
   "source": [
    "#### Map with spray data, and airport locations"
   ]
  },
  {
   "cell_type": "code",
   "execution_count": null,
   "metadata": {},
   "outputs": [],
   "source": [
    "# Code is borrowed from: https://www.kaggle.com/users/213536/vasco/predict-west-nile-virus/west-nile-heatmap\n",
    "\n",
    "#import pandas as pd\n",
    "#import numpy as np\n",
    "import matplotlib.pyplot as plt\n",
    "#%matplotlib inline # Remove this when copying to a script on Kaggle:\n",
    "\n",
    "mapdata = np.loadtxt('./all/mapdata_copyright_openstreetmap_contributors.txt')\n",
    "#traps = pd.read_csv('../input/train.csv')[['Date', 'Trap','Longitude', 'Latitude', 'WnvPresent']]\n",
    "\n",
    "aspect = mapdata.shape[0] * 1.0 / mapdata.shape[1]\n",
    "lon_lat_box = (-88, -87.5, 41.6, 42.1)\n",
    "\n",
    "plt.figure(figsize=(10,14))\n",
    "plt.imshow(mapdata, \n",
    "           cmap=plt.get_cmap('gray'), \n",
    "           extent=lon_lat_box, \n",
    "           aspect=aspect)\n",
    "\n",
    "locations = train[['Longitude', 'Latitude']].drop_duplicates().values\n",
    "plt.scatter(locations[:,0], locations[:,1], marker='o',c='k',label = \"Mosquito Traps\")\n",
    "plt.scatter(a_long, a_lat, marker = \"o\",c ='green',label=\"Airport\")\n",
    "plt.scatter(spray['Longitude'],spray['Latitude'],label=\"Spray\")\n",
    "plt.legend()"
   ]
  },
  {
   "cell_type": "code",
   "execution_count": null,
   "metadata": {},
   "outputs": [],
   "source": [
    "test_train = pd.concat([test,train],keys = ['test','train'],sort = False)"
   ]
  },
  {
   "cell_type": "code",
   "execution_count": null,
   "metadata": {},
   "outputs": [],
   "source": [
    "test_train.index.levels[0].name = 'og'\n",
    "test_train.index.levels[1].name = 'pip'"
   ]
  },
  {
   "cell_type": "code",
   "execution_count": null,
   "metadata": {},
   "outputs": [],
   "source": [
    "test_train.columns = [i.lower().replace(' ','_') for i in test_train.columns.get_values()]"
   ]
  },
  {
   "cell_type": "code",
   "execution_count": null,
   "metadata": {},
   "outputs": [],
   "source": [
    "test_train.date=pd.to_datetime(test_train.date, format='%Y-%m-%d')"
   ]
  },
  {
   "cell_type": "code",
   "execution_count": null,
   "metadata": {},
   "outputs": [],
   "source": [
    "test_train.date.head()"
   ]
  },
  {
   "cell_type": "code",
   "execution_count": null,
   "metadata": {},
   "outputs": [],
   "source": [
    "test_train.trap.value_counts().head()"
   ]
  },
  {
   "cell_type": "code",
   "execution_count": null,
   "metadata": {},
   "outputs": [],
   "source": [
    "test_train.info()"
   ]
  },
  {
   "cell_type": "code",
   "execution_count": null,
   "metadata": {},
   "outputs": [],
   "source": [
    "test_train.select_dtypes(include='int')"
   ]
  },
  {
   "cell_type": "code",
   "execution_count": null,
   "metadata": {},
   "outputs": [],
   "source": [
    "test_train = pd.get_dummies(test_train, columns=['species','trap'])"
   ]
  },
  {
   "cell_type": "code",
   "execution_count": null,
   "metadata": {},
   "outputs": [],
   "source": [
    "test_train.info(verbose=True)"
   ]
  },
  {
   "cell_type": "code",
   "execution_count": null,
   "metadata": {},
   "outputs": [],
   "source": [
    "test_train.longitude"
   ]
  },
  {
   "cell_type": "code",
   "execution_count": null,
   "metadata": {},
   "outputs": [],
   "source": [
    "test_train.latitude"
   ]
  },
  {
   "cell_type": "markdown",
   "metadata": {},
   "source": [
    "I'm going to sugest we don't use Block, Address, and street. They give the same info as lat and lon.  "
   ]
  },
  {
   "cell_type": "code",
   "execution_count": null,
   "metadata": {},
   "outputs": [],
   "source": [
    "def lat_lon_int(x):\n",
    "    return int(x*1000)"
   ]
  },
  {
   "cell_type": "code",
   "execution_count": null,
   "metadata": {},
   "outputs": [],
   "source": [
    "test_train['lat_int'] = test_train.latitude.apply(lat_lon_int)"
   ]
  },
  {
   "cell_type": "code",
   "execution_count": null,
   "metadata": {},
   "outputs": [],
   "source": [
    "test_train['lon_int'] = test_train.longitude.apply(lat_lon_int)"
   ]
  },
  {
   "cell_type": "code",
   "execution_count": null,
   "metadata": {},
   "outputs": [],
   "source": [
    "def get_month(m):\n",
    "    return m.month"
   ]
  },
  {
   "cell_type": "code",
   "execution_count": null,
   "metadata": {},
   "outputs": [],
   "source": [
    "test_train['month'] = test_train.date.apply(get_month)"
   ]
  },
  {
   "cell_type": "code",
   "execution_count": null,
   "metadata": {},
   "outputs": [],
   "source": [
    "def get_day(d):\n",
    "    return d.day"
   ]
  },
  {
   "cell_type": "code",
   "execution_count": null,
   "metadata": {},
   "outputs": [],
   "source": [
    "test_train['day'] = test_train.date.apply(get_day)"
   ]
  },
  {
   "cell_type": "code",
   "execution_count": null,
   "metadata": {},
   "outputs": [],
   "source": [
    "test_train.addressaccuracy.value_counts()"
   ]
  },
  {
   "cell_type": "markdown",
   "metadata": {},
   "source": [
    "Maybe we should do something about the three values."
   ]
  },
  {
   "cell_type": "code",
   "execution_count": null,
   "metadata": {},
   "outputs": [],
   "source": [
    "test_train.nummosquitos.value_counts()"
   ]
  },
  {
   "cell_type": "code",
   "execution_count": null,
   "metadata": {},
   "outputs": [],
   "source": [
    "spray.info()"
   ]
  },
  {
   "cell_type": "code",
   "execution_count": null,
   "metadata": {},
   "outputs": [],
   "source": [
    "spray.columns = [i.lower().replace(' ','_') for i in spray.columns.get_values()]"
   ]
  },
  {
   "cell_type": "code",
   "execution_count": null,
   "metadata": {},
   "outputs": [],
   "source": [
    "spray.rename(columns={'latitude': 'latitude_spray', 'longitude': 'longitude_spray'}, inplace=True)"
   ]
  },
  {
   "cell_type": "code",
   "execution_count": null,
   "metadata": {},
   "outputs": [],
   "source": [
    "X_test = pd.DataFrame(test_train.loc['test'])\n",
    "X_train = pd.DataFrame(test_train.loc['train'])\n",
    "X_test.shape"
   ]
  },
  {
   "cell_type": "code",
   "execution_count": null,
   "metadata": {},
   "outputs": [],
   "source": [
    "#X_test = X_test.merge(spray, on='date')\n",
    "X_train = X_train.merge(spray, on='date')"
   ]
  },
  {
   "cell_type": "code",
   "execution_count": null,
   "metadata": {},
   "outputs": [],
   "source": [
    "X_train.shape"
   ]
  },
  {
   "cell_type": "code",
   "execution_count": null,
   "metadata": {},
   "outputs": [],
   "source": [
    "weather_combined.columns = [i.lower().replace(' ','_') for i in weather_combined.columns.get_values()]"
   ]
  },
  {
   "cell_type": "code",
   "execution_count": null,
   "metadata": {},
   "outputs": [],
   "source": [
    "weather_combined = weather_combined.replace('M', np.NaN)\n",
    "weather_combined = weather_combined.replace('-', np.NaN)\n",
    "weather_combined = weather_combined.replace('T', np.NaN)\n",
    "weather_combined = weather_combined.replace(' T', np.NaN)\n",
    "weather_combined = weather_combined.replace('  T', np.NaN)"
   ]
  },
  {
   "cell_type": "code",
   "execution_count": null,
   "metadata": {},
   "outputs": [],
   "source": [
    "weather_combined.info()"
   ]
  },
  {
   "cell_type": "code",
   "execution_count": null,
   "metadata": {},
   "outputs": [],
   "source": [
    "weather_combined.drop('depart_2',axis = 1,inplace=True)"
   ]
  },
  {
   "cell_type": "code",
   "execution_count": null,
   "metadata": {},
   "outputs": [],
   "source": [
    "weather_combined.head()"
   ]
  },
  {
   "cell_type": "code",
   "execution_count": null,
   "metadata": {},
   "outputs": [],
   "source": [
    "weather_combined.tavg_1=weather_combined.tavg_1.apply(int) #avgspeed_1\n",
    "weather_combined.depart_1=weather_combined.depart_1.apply(int)\n",
    "weather_combined.wetbulb_1.fillna(weather_combined.wetbulb_1.median(),inplace=True)\n",
    "weather_combined.wetbulb_1=weather_combined.wetbulb_1.apply(int)\n",
    "weather_combined.heat_1=weather_combined.heat_1.apply(int)\n",
    "weather_combined.cool_1=weather_combined.cool_1.apply(int)\n",
    "weather_combined.sunrise_1=weather_combined.sunrise_1.apply(int)\n",
    "weather_combined.sunset_1=weather_combined.sunset_1.apply(int)\n",
    "weather_combined.preciptotal_1=weather_combined.preciptotal_1.apply(float)\n",
    "weather_combined.stnpressure_1=weather_combined.stnpressure_1.apply(float)\n",
    "weather_combined.stnpressure_1.fillna(weather_combined.stnpressure_1.mean(),inplace=True)\n",
    "weather_combined.sealevel_1=weather_combined.sealevel_1.apply(float)\n",
    "#weather_combined.avgspeed_1.fillna(weather_combined.avgspeed_1.mean(),inplace=True)\n",
    "weather_combined.avgspeed_1=weather_combined.avgspeed_1.apply(float)\n",
    "weather_combined.avgspeed_1.fillna(weather_combined.avgspeed_1.mean(),inplace=True)\n",
    "weather_combined.tavg_2=weather_combined.tavg_2.apply(int)\n",
    "weather_combined.wetbulb_2.fillna(weather_combined.wetbulb_2.median(),inplace=True)\n",
    "weather_combined.wetbulb_2=weather_combined.wetbulb_2.apply(int)\n",
    "weather_combined.heat_2=weather_combined.heat_2.apply(int)\n",
    "weather_combined.cool_2=weather_combined.cool_2.apply(int)\n",
    "weather_combined.preciptotal_2=weather_combined.preciptotal_2.apply(float)\n",
    "weather_combined.preciptotal_2.fillna(weather_combined.preciptotal_2.mean(),inplace=True)\n",
    "weather_combined.stnpressure_2=weather_combined.stnpressure_2.apply(float)\n",
    "weather_combined.stnpressure_2.fillna(weather_combined.stnpressure_2.mean(),inplace=True)\n",
    "weather_combined.sealevel_2=weather_combined.sealevel_2.apply(float)\n",
    "weather_combined.sealevel_2.fillna(weather_combined.sealevel_2.mean(),inplace=True)\n",
    "weather_combined.avgspeed_2=weather_combined.avgspeed_2.apply(float)\n",
    "weather_combined.avgspeed_2.fillna(weather_combined.avgspeed_2.mean(),inplace=True)"
   ]
  },
  {
   "cell_type": "code",
   "execution_count": null,
   "metadata": {},
   "outputs": [],
   "source": [
    "#X_test = X_test.merge(weather_combined, on='date')\n",
    "X_train = X_train.merge(weather_combined, on='date')"
   ]
  },
  {
   "cell_type": "code",
   "execution_count": null,
   "metadata": {},
   "outputs": [],
   "source": [
    "X_train.drop('id',axis=1, inplace=True)"
   ]
  },
  {
   "cell_type": "code",
   "execution_count": null,
   "metadata": {},
   "outputs": [],
   "source": [
    "X_train.info(verbose=True, null_counts=True)"
   ]
  },
  {
   "cell_type": "code",
   "execution_count": null,
   "metadata": {},
   "outputs": [],
   "source": [
    "X_test.shape"
   ]
  },
  {
   "cell_type": "code",
   "execution_count": null,
   "metadata": {},
   "outputs": [],
   "source": [
    "X_test = X_test.merge(weather_combined, on='date')\n",
    "X_test.shape"
   ]
  },
  {
   "cell_type": "code",
   "execution_count": null,
   "metadata": {},
   "outputs": [],
   "source": [
    "X_test.drop(['nummosquitos','wnvpresent'],axis=1,inplace=True)"
   ]
  },
  {
   "cell_type": "code",
   "execution_count": null,
   "metadata": {},
   "outputs": [],
   "source": [
    "X_test.info(verbose=True, null_counts=True)"
   ]
  },
  {
   "cell_type": "code",
   "execution_count": null,
   "metadata": {},
   "outputs": [],
   "source": [
    "#X_train.to_csv('./data/train.csv',index=False)\n",
    "#X_test.to_csv('./data/test.csv',index=False)"
   ]
  },
  {
   "cell_type": "code",
   "execution_count": null,
   "metadata": {},
   "outputs": [],
   "source": [
    "X_train = pd.read_csv('./data/train.csv')\n",
    "X_test = pd.read_csv('./data/test.csv')"
   ]
  },
  {
   "cell_type": "code",
   "execution_count": null,
   "metadata": {},
   "outputs": [],
   "source": [
    "df_data = pd.concat([X_test,X_train],sort = False)"
   ]
  },
  {
   "cell_type": "code",
   "execution_count": null,
   "metadata": {},
   "outputs": [],
   "source": [
    "df_data.drop('id', axis =  1, inplace=True) \n",
    "df_data.drop(df_data.loc[:,'species_CULEX ERRATICUS':'trap_T903'].columns, axis=1, inplace=True)\n",
    "\n"
   ]
  },
  {
   "cell_type": "code",
   "execution_count": null,
   "metadata": {},
   "outputs": [],
   "source": [
    "df_data.fillna(-1,inplace=True)"
   ]
  },
  {
   "cell_type": "code",
   "execution_count": null,
   "metadata": {},
   "outputs": [],
   "source": [
    "df_data.date=pd.to_datetime(df_data.date, format='%Y-%m-%d')"
   ]
  },
  {
   "cell_type": "code",
   "execution_count": null,
   "metadata": {},
   "outputs": [],
   "source": [
    "df_data.info(verbose = True)"
   ]
  },
  {
   "cell_type": "code",
   "execution_count": null,
   "metadata": {},
   "outputs": [],
   "source": [
    "train = pd.read_csv(\"./all/train.csv\")\n",
    "test = pd.read_csv(\"./all/test.csv\")"
   ]
  },
  {
   "cell_type": "code",
   "execution_count": null,
   "metadata": {},
   "outputs": [],
   "source": [
    "df_data2 = pd.concat([test,train],sort = False)"
   ]
  },
  {
   "cell_type": "code",
   "execution_count": null,
   "metadata": {},
   "outputs": [],
   "source": [
    "df_data2.info()"
   ]
  },
  {
   "cell_type": "code",
   "execution_count": null,
   "metadata": {},
   "outputs": [],
   "source": [
    "df_data2.columns = [i.lower().replace(' ','_') for i in df_data2.columns.get_values()]"
   ]
  },
  {
   "cell_type": "code",
   "execution_count": null,
   "metadata": {},
   "outputs": [],
   "source": [
    "df_data2.date=pd.to_datetime(df_data2.date, format='%Y-%m-%d')"
   ]
  },
  {
   "cell_type": "code",
   "execution_count": null,
   "metadata": {},
   "outputs": [],
   "source": [
    "df_data3 = df_data2[['species','trap']].copy()"
   ]
  },
  {
   "cell_type": "code",
   "execution_count": null,
   "metadata": {},
   "outputs": [],
   "source": [
    "df_data3.info()"
   ]
  },
  {
   "cell_type": "code",
   "execution_count": null,
   "metadata": {},
   "outputs": [],
   "source": [
    "del df_data2"
   ]
  },
  {
   "cell_type": "code",
   "execution_count": null,
   "metadata": {},
   "outputs": [],
   "source": [
    "df_data.to_csv('./data/temp.csv',index=False)\n",
    "df_data3.to_csv('./data/temp2.csv',index=False)"
   ]
  },
  {
   "cell_type": "code",
   "execution_count": null,
   "metadata": {},
   "outputs": [],
   "source": [
    "df_data = pd.read_csv('./data/temp.csv')\n",
    "df_data3 = pd.read_csv('./data/temp2.csv')"
   ]
  },
  {
   "cell_type": "code",
   "execution_count": null,
   "metadata": {},
   "outputs": [],
   "source": [
    "df_data.info(verbose= True)"
   ]
  },
  {
   "cell_type": "code",
   "execution_count": null,
   "metadata": {},
   "outputs": [],
   "source": [
    "df_data3.info(verbose= True)"
   ]
  },
  {
   "cell_type": "code",
   "execution_count": null,
   "metadata": {},
   "outputs": [],
   "source": [
    "df_data2 = pd.concat([df_data,df_data3],axis = 1,sort = False)"
   ]
  },
  {
   "cell_type": "code",
   "execution_count": null,
   "metadata": {},
   "outputs": [],
   "source": [
    "df_data2.to_csv('./data/graph.csv')"
   ]
  },
  {
   "cell_type": "markdown",
   "metadata": {},
   "source": [
    "Time to model"
   ]
  },
  {
   "cell_type": "code",
   "execution_count": null,
   "metadata": {},
   "outputs": [],
   "source": [
    "X_train = pd.read_csv('./data/train.csv')\n",
    "X_test = pd.read_csv('./data/test.csv')"
   ]
  },
  {
   "cell_type": "code",
   "execution_count": null,
   "metadata": {},
   "outputs": [],
   "source": [
    "y_train_wnv = pd.DataFrame(X_train.wnvpresent)\n",
    "y_train_mos = pd.DataFrame(X_train.nummosquitos)"
   ]
  },
  {
   "cell_type": "code",
   "execution_count": null,
   "metadata": {},
   "outputs": [],
   "source": [
    "X_train.drop(['wnvpresent','nummosquitos'],axis=1,inplace=True)"
   ]
  },
  {
   "cell_type": "code",
   "execution_count": null,
   "metadata": {},
   "outputs": [],
   "source": [
    "X_train.drop(['address','addressnumberandstreet','street'], axis =1,inplace=True)"
   ]
  },
  {
   "cell_type": "code",
   "execution_count": null,
   "metadata": {},
   "outputs": [],
   "source": [
    "X_train.drop('date',axis=1,inplace=True)"
   ]
  },
  {
   "cell_type": "code",
   "execution_count": null,
   "metadata": {},
   "outputs": [],
   "source": [
    "#X_train.date = pd.to_datetime(X_train.date,format='%Y-%m-%d')"
   ]
  },
  {
   "cell_type": "code",
   "execution_count": null,
   "metadata": {},
   "outputs": [],
   "source": [
    "y_train_wnv.wnvpresent = np.where(y_train_wnv.wnvpresent==0.0,0,1)\n",
    "#y_train_mos.nummosquitos = np.where(y_train.nummosquitos==)"
   ]
  },
  {
   "cell_type": "code",
   "execution_count": null,
   "metadata": {},
   "outputs": [],
   "source": [
    "df_kaggle = pd.DataFrame(X_test.id)"
   ]
  },
  {
   "cell_type": "code",
   "execution_count": null,
   "metadata": {},
   "outputs": [],
   "source": [
    "X_test.drop(['id','date','address','addressnumberandstreet','street'],axis=1,inplace=True)"
   ]
  },
  {
   "cell_type": "code",
   "execution_count": null,
   "metadata": {},
   "outputs": [],
   "source": [
    "X_test.shape"
   ]
  },
  {
   "cell_type": "code",
   "execution_count": null,
   "metadata": {},
   "outputs": [],
   "source": [
    "X_train.shape"
   ]
  },
  {
   "cell_type": "code",
   "execution_count": null,
   "metadata": {},
   "outputs": [],
   "source": [
    "from sklearn.model_selection import GridSearchCV"
   ]
  },
  {
   "cell_type": "code",
   "execution_count": null,
   "metadata": {},
   "outputs": [],
   "source": [
    "from sklearn.neighbors import KNeighborsClassifier\n",
    "\n",
    "knn_params = {\n",
    "    'n_neighbors':[1,3,5,9,15,21],\n",
    "    'weights':['uniform','distance'],\n",
    "    'metric':['euclidean','manhattan','minkowski'],\n",
    "    'algorithm':['auto', 'ball_tree', 'kd_tree']\n",
    "}\n",
    "\n",
    "knnc_gridsearch = GridSearchCV(KNeighborsClassifier(), knn_params, cv=3, verbose=1, n_jobs=2)\n",
    "\n",
    "knnc_gridsearch = knnc_gridsearch.fit(X_train, y_train_wnv)"
   ]
  },
  {
   "cell_type": "code",
   "execution_count": null,
   "metadata": {},
   "outputs": [],
   "source": [
    "knnc_gridsearch.best_score_"
   ]
  },
  {
   "cell_type": "markdown",
   "metadata": {},
   "source": [
    "0.9466971254521226"
   ]
  },
  {
   "cell_type": "code",
   "execution_count": null,
   "metadata": {},
   "outputs": [],
   "source": [
    "knnc_gridsearch.best_params_"
   ]
  },
  {
   "cell_type": "markdown",
   "metadata": {},
   "source": [
    "{'algorithm': 'auto',\n",
    " 'metric': 'euclidean',\n",
    " 'n_neighbors': 21,\n",
    " 'weights': 'uniform'}"
   ]
  },
  {
   "cell_type": "code",
   "execution_count": null,
   "metadata": {},
   "outputs": [],
   "source": [
    "df_knnc_gs = pd.DataFrame(knnc_gridsearch.cv_results_)\n",
    "df_knnc_gs.to_csv('./data/knnc_gs_score.csv',index=False)"
   ]
  },
  {
   "cell_type": "code",
   "execution_count": null,
   "metadata": {},
   "outputs": [],
   "source": [
    "df_knnc_gs.head()"
   ]
  },
  {
   "cell_type": "code",
   "execution_count": null,
   "metadata": {},
   "outputs": [],
   "source": [
    "cleo = knnc_gridsearch.predict(X_test)"
   ]
  },
  {
   "cell_type": "code",
   "execution_count": null,
   "metadata": {},
   "outputs": [],
   "source": [
    "df_kaggle['WnvPresent'] = cleo"
   ]
  },
  {
   "cell_type": "code",
   "execution_count": null,
   "metadata": {},
   "outputs": [],
   "source": [
    "df_kaggle.id=df_kaggle.id.apply(int)\n",
    "#df_kaggle.set_index(\"id\", inplace = True)\n",
    "df_kaggle.to_csv('./data/knnc_kaggel.csv',index=False)"
   ]
  },
  {
   "cell_type": "markdown",
   "metadata": {},
   "source": [
    "Kaggel 0.49813"
   ]
  },
  {
   "cell_type": "code",
   "execution_count": null,
   "metadata": {},
   "outputs": [],
   "source": [
    "knnc = KNeighborsClassifier()\n",
    "model = knnc.fit(X_train,y_train_wnv)\n",
    "pred_knnc = knnc.predict(X_test)\n",
    "pred_knnc_train = knnc.predict(X_train)\n",
    "model.score(X_train, y_train_wnv)"
   ]
  },
  {
   "cell_type": "markdown",
   "metadata": {},
   "source": [
    "Value for score 0.9507900247477632"
   ]
  },
  {
   "cell_type": "markdown",
   "metadata": {},
   "source": [
    "Adding Random forest"
   ]
  },
  {
   "cell_type": "code",
   "execution_count": null,
   "metadata": {},
   "outputs": [],
   "source": [
    "from sklearn.ensemble import RandomForestClassifier\n",
    "\n",
    "rfc_params = {\n",
    "    'n_estimators':[3,5,10,15,21],\n",
    "    #'criterion':['mae','mse'],\n",
    "    'max_features':['auto','sqrt','log2'],\n",
    "    'max_depth':[3,5,7,11,13,17,19]\n",
    "}\n",
    "\n",
    "rfc_gridsearch = GridSearchCV(RandomForestClassifier(), rfc_params, cv=3, verbose=1, n_jobs=2)\n",
    "\n",
    "rfc_gridsearch = rfc_gridsearch.fit(X_train, y_train_wnv)"
   ]
  },
  {
   "cell_type": "code",
   "execution_count": null,
   "metadata": {},
   "outputs": [],
   "source": [
    "rfc_gridsearch.best_score_"
   ]
  },
  {
   "cell_type": "markdown",
   "metadata": {},
   "source": [
    "0.9428897772701313"
   ]
  },
  {
   "cell_type": "code",
   "execution_count": null,
   "metadata": {},
   "outputs": [],
   "source": [
    "rfc_gridsearch.best_params_"
   ]
  },
  {
   "cell_type": "markdown",
   "metadata": {},
   "source": [
    "{'max_depth': 3, 'max_features': 'log2', 'n_estimators': 3}"
   ]
  },
  {
   "cell_type": "code",
   "execution_count": null,
   "metadata": {},
   "outputs": [],
   "source": [
    "df_rfc_gs = pd.DataFrame(rfc_gridsearch.cv_results_)\n",
    "df_rfc_gs.to_csv('./data/rfc_gs_score.csv',index=False)"
   ]
  },
  {
   "cell_type": "code",
   "execution_count": null,
   "metadata": {},
   "outputs": [],
   "source": [
    "df_rfc_gs.head()"
   ]
  },
  {
   "cell_type": "code",
   "execution_count": null,
   "metadata": {},
   "outputs": [],
   "source": [
    "cleo = rfc_gridsearch.predict(X_test)\n",
    "df_kaggle['WnvPresent'] = cleo\n",
    "df_kaggle.id=df_kaggle.id.apply(int)\n",
    "df_kaggle.to_csv('./data/rfc_kaggel.csv',index=False)"
   ]
  },
  {
   "cell_type": "markdown",
   "metadata": {},
   "source": [
    "Kaggel 0.50000"
   ]
  },
  {
   "cell_type": "code",
   "execution_count": null,
   "metadata": {},
   "outputs": [],
   "source": [
    "rfc = RandomForestClassifier()\n",
    "model = rfc.fit(X_train,y_train_wnv)\n",
    "pred_rfc = rfc.predict(X_test)\n",
    "pred_rfc_train = rfc.predict(X_train)\n",
    "model.score(X_train, y_train_wnv)"
   ]
  },
  {
   "cell_type": "markdown",
   "metadata": {},
   "source": [
    "0.9765848086807538"
   ]
  },
  {
   "cell_type": "code",
   "execution_count": null,
   "metadata": {},
   "outputs": [],
   "source": [
    "from xgboost import XGBClassifier"
   ]
  },
  {
   "cell_type": "code",
   "execution_count": null,
   "metadata": {},
   "outputs": [],
   "source": [
    "xgc = XGBClassifier()\n",
    "model = xgc.fit(X_train, y_train_wnv)\n",
    "pred_xgc = xgc.predict(X_test)\n",
    "pred_xgc_train = xgc.predict(X_train)\n",
    "model.score(X_train, y_train_wnv)"
   ]
  },
  {
   "cell_type": "markdown",
   "metadata": {},
   "source": [
    "0.9475537787930707"
   ]
  },
  {
   "cell_type": "code",
   "execution_count": null,
   "metadata": {},
   "outputs": [],
   "source": [
    "xgc_params = {\n",
    "    'max_depth':[3,5,7,11,13,17,19],\n",
    "    'n_estimators':[3,5,10,15,21],\n",
    "    'booster':['gbtree', 'gblinear', 'dart']\n",
    "}\n",
    "\n",
    "xgc_gridsearch = GridSearchCV(XGBClassifier(), xgc_params, cv=3, verbose=1, n_jobs=2)\n",
    "\n",
    "xgc_gridsearch = xgc_gridsearch.fit(X_train, y_train_wnv)"
   ]
  },
  {
   "cell_type": "code",
   "execution_count": null,
   "metadata": {},
   "outputs": [],
   "source": [
    "xgc_gridsearch.best_score_"
   ]
  },
  {
   "cell_type": "markdown",
   "metadata": {},
   "source": [
    "0.9475537787930707"
   ]
  },
  {
   "cell_type": "code",
   "execution_count": null,
   "metadata": {},
   "outputs": [],
   "source": [
    "xgc_gridsearch.best_params_"
   ]
  },
  {
   "cell_type": "markdown",
   "metadata": {},
   "source": [
    "{'booster': 'gblinear', 'max_depth': 3, 'n_estimators': 3}"
   ]
  },
  {
   "cell_type": "code",
   "execution_count": null,
   "metadata": {},
   "outputs": [],
   "source": [
    "df_xgc_gs = pd.DataFrame(xgc_gridsearch.cv_results_)\n",
    "df_xgc_gs.to_csv('./data/xgc_gs_score.csv',index=False)"
   ]
  },
  {
   "cell_type": "code",
   "execution_count": null,
   "metadata": {},
   "outputs": [],
   "source": [
    "cleo = xgc_gridsearch.predict(X_test)\n",
    "df_kaggle['WnvPresent'] = cleo\n",
    "df_kaggle.id=df_kaggle.id.apply(int)\n",
    "df_kaggle.to_csv('./data/xgc_kaggel.csv',index=False)"
   ]
  },
  {
   "cell_type": "code",
   "execution_count": null,
   "metadata": {},
   "outputs": [],
   "source": []
  },
  {
   "cell_type": "code",
   "execution_count": null,
   "metadata": {},
   "outputs": [],
   "source": []
  },
  {
   "cell_type": "markdown",
   "metadata": {},
   "source": [
    "Modeling"
   ]
  },
  {
   "cell_type": "code",
   "execution_count": null,
   "metadata": {},
   "outputs": [],
   "source": [
    "train = pd.read_csv('./data/train.csv')\n",
    "test = pd.read_csv('./data/test.csv')"
   ]
  },
  {
   "cell_type": "code",
   "execution_count": null,
   "metadata": {},
   "outputs": [],
   "source": [
    "train.shape"
   ]
  },
  {
   "cell_type": "code",
   "execution_count": null,
   "metadata": {},
   "outputs": [],
   "source": [
    "test.shape"
   ]
  },
  {
   "cell_type": "code",
   "execution_count": null,
   "metadata": {},
   "outputs": [],
   "source": [
    "train.head()"
   ]
  },
  {
   "cell_type": "code",
   "execution_count": null,
   "metadata": {},
   "outputs": [],
   "source": [
    "test.head()"
   ]
  },
  {
   "cell_type": "code",
   "execution_count": null,
   "metadata": {},
   "outputs": [],
   "source": [
    "#throw all object features into a list, except date.\n",
    "obj_list = []\n",
    "for i in train.select_dtypes(include='object').columns:\n",
    "    obj_list.append(i)\n",
    "obj_list.remove(\"date\")"
   ]
  },
  {
   "cell_type": "code",
   "execution_count": null,
   "metadata": {},
   "outputs": [],
   "source": [
    "obj_list"
   ]
  },
  {
   "cell_type": "code",
   "execution_count": null,
   "metadata": {},
   "outputs": [],
   "source": [
    "#ensure both train and test have all categories to prevent mismatched columns when dummying variables\n",
    "for col in obj_list:\n",
    "    train_vals = list(train[col].unique())\n",
    "    test_vals = list(test[col].unique())\n",
    "    total_vals = set(train_vals + test_vals)\n",
    "    train[col] = pd.Categorical(train[col], categories = total_vals)\n",
    "    test[col] = pd.Categorical(test[col], categories = total_vals)"
   ]
  },
  {
   "cell_type": "code",
   "execution_count": null,
   "metadata": {},
   "outputs": [],
   "source": [
    "#dummy variables\n",
    "train = pd.get_dummies(train, columns = obj_list)\n",
    "test = pd.get_dummies(test, columns = obj_list)"
   ]
  },
  {
   "cell_type": "code",
   "execution_count": null,
   "metadata": {},
   "outputs": [],
   "source": [
    "#check to see if the shape looks fine.\n",
    "print(train.shape)\n",
    "print(test.shape)"
   ]
  },
  {
   "cell_type": "code",
   "execution_count": null,
   "metadata": {},
   "outputs": [],
   "source": [
    "features = [x for x in train.columns if x not in [\"nummosquitos\", \"wnvpresent\", \"date\"]]\n",
    "len(features)"
   ]
  },
  {
   "cell_type": "code",
   "execution_count": null,
   "metadata": {},
   "outputs": [],
   "source": [
    "remove = [\"id\", \"date\"]\n",
    "test_features = [x for x in test if x not in remove]\n",
    "len(test_features)"
   ]
  },
  {
   "cell_type": "code",
   "execution_count": null,
   "metadata": {},
   "outputs": [],
   "source": [
    "df_maj = train[train.wnvpresent == 0]\n",
    "df_min = train[train.wnvpresent == 1]"
   ]
  },
  {
   "cell_type": "code",
   "execution_count": null,
   "metadata": {},
   "outputs": [],
   "source": [
    "from sklearn.utils import resample"
   ]
  },
  {
   "cell_type": "code",
   "execution_count": null,
   "metadata": {},
   "outputs": [],
   "source": [
    "df_upsample = resample(df_min, replace=True, n_samples=9000, random_state=42)\n",
    "df_upsample = pd.concat([df_upsample, df_maj])"
   ]
  },
  {
   "cell_type": "code",
   "execution_count": null,
   "metadata": {},
   "outputs": [],
   "source": [
    "df_upsample[\"wnvpresent\"].value_counts(normalize=True)"
   ]
  },
  {
   "cell_type": "code",
   "execution_count": null,
   "metadata": {},
   "outputs": [],
   "source": [
    "X = df_upsample[features]\n",
    "y = df_upsample[\"wnvpresent\"]"
   ]
  },
  {
   "cell_type": "code",
   "execution_count": null,
   "metadata": {},
   "outputs": [],
   "source": [
    "from sklearn.preprocessing import StandardScaler\n",
    "from sklearn.linear_model import LogisticRegression\n",
    "from sklearn.pipeline import Pipeline\n",
    "from sklearn.model_selection import train_test_split, cross_val_score, GridSearchCV\n",
    "from sklearn.ensemble import ExtraTreesClassifier, AdaBoostClassifier\n",
    "from sklearn.naive_bayes import MultinomialNB, GaussianNB"
   ]
  },
  {
   "cell_type": "code",
   "execution_count": null,
   "metadata": {},
   "outputs": [],
   "source": [
    "X_train, X_test, y_train, y_test = train_test_split(X, y, test_size = 0.2, stratify = y)"
   ]
  },
  {
   "cell_type": "markdown",
   "metadata": {},
   "source": [
    "Logistic Regression"
   ]
  },
  {
   "cell_type": "code",
   "execution_count": null,
   "metadata": {},
   "outputs": [],
   "source": [
    "logreg = LogisticRegression()\n",
    "ss = StandardScaler()\n",
    "\n",
    "pipe_logreg = Pipeline([\n",
    "    (\"ss\", ss),\n",
    "    (\"logreg\", logreg)\n",
    "])\n",
    "\n",
    "params = {\n",
    "    \"logreg__penalty\" : [\"l1\", \"l2\"],\n",
    "    \"logreg__C\" : [0.1, 0.5, 1, 5]\n",
    "\n",
    "}\n",
    "\n",
    "gs_logreg = GridSearchCV(pipe_logreg, param_grid=params)\n",
    "gs_logreg.fit(X_train, y_train)\n",
    "\n",
    "print(gs_logreg.best_params_)\n",
    "print(\"CrossValScore\", gs_logreg.best_score_)\n",
    "print(gs_logreg.score(X_test, y_test))"
   ]
  },
  {
   "cell_type": "code",
   "execution_count": null,
   "metadata": {},
   "outputs": [],
   "source": [
    "df_logreg_gs = pd.DataFrame(gs_logreg.cv_results_)\n",
    "df_logreg_gs.to_csv('./data/logreg_gs_scores.csv',index=False)"
   ]
  },
  {
   "cell_type": "code",
   "execution_count": null,
   "metadata": {},
   "outputs": [],
   "source": [
    "ss1 = StandardScaler()\n",
    "test_scaled = ss1.fit_transform(test[test_features])\n",
    "predicts_logreg = gs_logreg.predict(test_scaled)\n",
    "\n",
    "df_logreg_preds = pd.DataFrame()\n",
    "ids_1 = test[\"id\"].astype(int)\n",
    "\n",
    "df_logreg_preds[\"Id\"] = ids_1\n",
    "df_logreg_preds[\"WnvPresent\"] = predicts_logreg\n",
    "df_logreg_preds.set_index(\"Id\", inplace = True)"
   ]
  },
  {
   "cell_type": "code",
   "execution_count": null,
   "metadata": {},
   "outputs": [],
   "source": [
    "#For interpretability\n",
    "logreg1 = LogisticRegression(C = 5, penalty = 'l1')\n",
    "logreg1.fit(X_train,y_train)\n",
    "coefs_df_logreg = pd.DataFrame({'feature': features, 'coef_values': logreg1.coef_[0]})\n",
    "\n",
    "coefs_df_logreg[\"abs_values\"] = coefs_df_logreg[\"coef_values\"].abs()\n",
    "coefs_df_logreg.sort_values(\"abs_values\", ascending = False).head(20)"
   ]
  },
  {
   "cell_type": "code",
   "execution_count": null,
   "metadata": {},
   "outputs": [],
   "source": [
    "logreg_top = coefs_df_logreg.sort_values(\"abs_values\", ascending = False).head(10)\n",
    "\n",
    "plt.style.use('fivethirtyeight')\n",
    "logreg_top.plot(x=\"feature\", y=\"coef_values\", kind=\"barh\", legend=False, title=\"Logistic Regression Top Predictors\")"
   ]
  },
  {
   "cell_type": "code",
   "execution_count": null,
   "metadata": {},
   "outputs": [],
   "source": [
    "# gut check\n",
    "# df_logreg_preds[df_logreg_preds[\"WnvPresent\"] == 1]"
   ]
  },
  {
   "cell_type": "code",
   "execution_count": null,
   "metadata": {},
   "outputs": [],
   "source": [
    "df_logreg_preds.head()"
   ]
  },
  {
   "cell_type": "code",
   "execution_count": null,
   "metadata": {},
   "outputs": [],
   "source": [
    "df_logreg_preds.to_csv(\"./data/predicts_logreg.csv\")"
   ]
  },
  {
   "cell_type": "markdown",
   "metadata": {},
   "source": [
    "Extra Trees"
   ]
  },
  {
   "cell_type": "code",
   "execution_count": null,
   "metadata": {},
   "outputs": [],
   "source": [
    "et = ExtraTreesClassifier()\n",
    "\n",
    "params = {\n",
    "    \"max_depth\" : [5, 10, 20],\n",
    "    \"n_estimators\" : [10, 20, 40]  \n",
    "}\n",
    "\n",
    "gs_et = GridSearchCV(et, param_grid=params)\n",
    "gs_et.fit(X_train, y_train)\n",
    "\n",
    "print(gs_et.best_params_)\n",
    "print(\"CrossValScore\", gs_et.best_score_)\n",
    "print(\"Score: \", gs_et.score(X_test, y_test))"
   ]
  },
  {
   "cell_type": "code",
   "execution_count": null,
   "metadata": {},
   "outputs": [],
   "source": [
    "df_et_gs = pd.DataFrame(gs_et.cv_results_)\n",
    "df_et_gs.to_csv('./data/et_gs_scores.csv',index=False)"
   ]
  },
  {
   "cell_type": "code",
   "execution_count": null,
   "metadata": {},
   "outputs": [],
   "source": [
    "predicts_et = gs_et.predict(test[test_features])\n",
    "\n",
    "df_et_preds = pd.DataFrame()\n",
    "ids_2 = test[\"id\"].astype(int)\n",
    "\n",
    "df_et_preds[\"Id\"] = ids_2\n",
    "df_et_preds[\"WnvPresent\"] = predicts_et\n",
    "df_et_preds.set_index(\"Id\", inplace = True)"
   ]
  },
  {
   "cell_type": "code",
   "execution_count": null,
   "metadata": {},
   "outputs": [],
   "source": [
    "#For interpretability\n",
    "et1 = ExtraTreesClassifier(max_depth=20, n_estimators=20)\n",
    "et1.fit(X_train, y_train)\n",
    "features_df_et = pd.DataFrame({'feature': features, 'feature_importances': et1.feature_importances_})\n",
    "features_df_et.sort_values(\"feature_importances\", ascending = False).head(10)"
   ]
  },
  {
   "cell_type": "code",
   "execution_count": null,
   "metadata": {},
   "outputs": [],
   "source": [
    "et_top = features_df_et.sort_values(\"feature_importances\", ascending = False).head(10)\n",
    "\n",
    "plt.style.use('fivethirtyeight')\n",
    "et_top.plot(x=\"feature\", y=\"feature_importances\", kind=\"barh\", legend=False, title=\"Extra Trees Top Predictors\")"
   ]
  },
  {
   "cell_type": "code",
   "execution_count": null,
   "metadata": {},
   "outputs": [],
   "source": [
    "# gut check\n",
    "# df_et_preds[df_et_preds[\"WnvPresent\"] == 1]"
   ]
  },
  {
   "cell_type": "code",
   "execution_count": null,
   "metadata": {},
   "outputs": [],
   "source": [
    "df_et_preds.head()"
   ]
  },
  {
   "cell_type": "code",
   "execution_count": null,
   "metadata": {},
   "outputs": [],
   "source": [
    "df_et_preds.to_csv(\"./data/predicts_et.csv\")"
   ]
  },
  {
   "cell_type": "markdown",
   "metadata": {},
   "source": [
    "AdaBoost"
   ]
  },
  {
   "cell_type": "code",
   "execution_count": null,
   "metadata": {},
   "outputs": [],
   "source": [
    "ada = AdaBoostClassifier()\n",
    "\n",
    "params = {\n",
    "    \"learning_rate\" : [0.5, 0.6, 0.7],\n",
    "    \"n_estimators\" : [30, 40, 50, 60] \n",
    "}\n",
    "\n",
    "gs_ada = GridSearchCV(ada, param_grid=params)\n",
    "gs_ada.fit(X_train, y_train)\n",
    "\n",
    "print(gs_ada.best_params_)\n",
    "print(\"CrossValScore\", gs_ada.best_score_)\n",
    "print(\"Score: \", gs_ada.score(X_test, y_test))"
   ]
  },
  {
   "cell_type": "code",
   "execution_count": null,
   "metadata": {},
   "outputs": [],
   "source": [
    "df_ada_gs = pd.DataFrame(gs_ada.cv_results_)\n",
    "df_ada_gs.to_csv('./data/ada_gs_scores.csv',index=False)"
   ]
  },
  {
   "cell_type": "code",
   "execution_count": null,
   "metadata": {},
   "outputs": [],
   "source": [
    "predicts_ada = gs_ada.predict(test[test_features])\n",
    "\n",
    "df_ada_preds = pd.DataFrame()\n",
    "ids_3 = test[\"id\"].astype(int)\n",
    "\n",
    "df_ada_preds[\"Id\"] = ids_3\n",
    "df_ada_preds[\"WnvPresent\"] = predicts_ada\n",
    "df_ada_preds.set_index(\"Id\", inplace = True)"
   ]
  },
  {
   "cell_type": "code",
   "execution_count": null,
   "metadata": {},
   "outputs": [],
   "source": [
    "test[\"wnv_predict\"] = predicts_ada"
   ]
  },
  {
   "cell_type": "code",
   "execution_count": null,
   "metadata": {},
   "outputs": [],
   "source": [
    "test.to_csv(\"./data/test_predicts_ada.csv\")"
   ]
  },
  {
   "cell_type": "code",
   "execution_count": null,
   "metadata": {},
   "outputs": [],
   "source": [
    "#For interpretability\n",
    "ada1 = AdaBoostClassifier(learning_rate=0.7, n_estimators=60)\n",
    "ada1.fit(X_train, y_train)\n",
    "features_df_ada = pd.DataFrame({'feature': features, 'feature_importances': ada1.feature_importances_})\n",
    "features_df_ada.sort_values(\"feature_importances\", ascending = False).head(10)"
   ]
  },
  {
   "cell_type": "code",
   "execution_count": null,
   "metadata": {},
   "outputs": [],
   "source": [
    "ada_top = features_df_ada.sort_values(\"feature_importances\", ascending = False).head(10)\n",
    "\n",
    "plt.style.use('fivethirtyeight')\n",
    "ada_top.plot(x=\"feature\", y=\"feature_importances\", kind=\"barh\", legend=False, title=\"AdaBoost Top Predictors\")"
   ]
  },
  {
   "cell_type": "code",
   "execution_count": null,
   "metadata": {},
   "outputs": [],
   "source": [
    "# gut check\n",
    "# df_ada_preds[df_ada_preds[\"WnvPresent\"] == 1]"
   ]
  },
  {
   "cell_type": "code",
   "execution_count": null,
   "metadata": {},
   "outputs": [],
   "source": [
    "df_ada_preds.head()"
   ]
  },
  {
   "cell_type": "code",
   "execution_count": null,
   "metadata": {},
   "outputs": [],
   "source": [
    "df_ada_preds.to_csv(\"./data/predicts_ada.csv\")"
   ]
  },
  {
   "cell_type": "markdown",
   "metadata": {},
   "source": [
    "Naive Bayes - Multinomial"
   ]
  },
  {
   "cell_type": "code",
   "execution_count": null,
   "metadata": {},
   "outputs": [],
   "source": [
    "gausnb = GaussianNB()\n",
    "ss = StandardScaler()\n",
    "\n",
    "pipe_gausnb = Pipeline([\n",
    "    (\"ss\", ss),\n",
    "    (\"gausnb\", gausnb)\n",
    "])\n",
    "\n",
    "\n",
    "pipe_gausnb.fit(X_train, y_train)\n",
    "\n",
    "print(\"CrossValScore\", pipe_gausnb.score(X_train, y_train))\n",
    "print(\"Score: \", pipe_gausnb.score(X_test, y_test))"
   ]
  },
  {
   "cell_type": "code",
   "execution_count": null,
   "metadata": {},
   "outputs": [],
   "source": [
    "predicts_gausnb = pipe_gausnb.predict(test[test_features])\n",
    "\n",
    "df_gausnb_preds = pd.DataFrame()\n",
    "ids_4 = test[\"id\"].astype(int)\n",
    "\n",
    "df_gausnb_preds[\"Id\"] = ids_4\n",
    "df_gausnb_preds[\"WnvPresent\"] = predicts_gausnb\n",
    "df_gausnb_preds.set_index(\"Id\", inplace = True)"
   ]
  },
  {
   "cell_type": "code",
   "execution_count": null,
   "metadata": {},
   "outputs": [],
   "source": [
    "# gut check\n",
    "# df_gausnb_preds[df_gausnb_preds[\"WnvPresent\"] == 1]"
   ]
  },
  {
   "cell_type": "code",
   "execution_count": null,
   "metadata": {},
   "outputs": [],
   "source": [
    "df_gausnb_preds.head()"
   ]
  },
  {
   "cell_type": "code",
   "execution_count": null,
   "metadata": {},
   "outputs": [],
   "source": [
    "df_gausnb_preds.to_csv(\"./data/predicts_gausnb.csv\")"
   ]
  },
  {
   "cell_type": "markdown",
   "metadata": {},
   "source": [
    "Kaggel 0.50000"
   ]
  },
  {
   "cell_type": "code",
   "execution_count": null,
   "metadata": {},
   "outputs": [],
   "source": [
    "test_train.longitude.unique()"
   ]
  },
  {
   "cell_type": "code",
   "execution_count": null,
   "metadata": {},
   "outputs": [],
   "source": [
    "df_graph = pd.read_csv('./data/graph.csv')"
   ]
  },
  {
   "cell_type": "code",
   "execution_count": null,
   "metadata": {},
   "outputs": [],
   "source": [
    "df_graph=df_graph[df_graph['wnvpresent'] != -1]"
   ]
  },
  {
   "cell_type": "code",
   "execution_count": null,
   "metadata": {},
   "outputs": [],
   "source": [
    "df_graph.drop(['Unnamed: 0','address','street','addressnumberandstreet','addressaccuracy','lat_int',\n",
    "              'lon_int'],axis = 1, inplace = True)"
   ]
  },
  {
   "cell_type": "code",
   "execution_count": null,
   "metadata": {},
   "outputs": [],
   "source": [
    "df_graph.drop(df_graph.loc[:,'tmax_1':'avgspeed_2'].columns, axis=1, inplace=True)\n"
   ]
  },
  {
   "cell_type": "code",
   "execution_count": null,
   "metadata": {},
   "outputs": [],
   "source": [
    "from datetime import datetime"
   ]
  },
  {
   "cell_type": "code",
   "execution_count": null,
   "metadata": {},
   "outputs": [],
   "source": [
    "def get_year(y):\n",
    "    return y.year"
   ]
  },
  {
   "cell_type": "code",
   "execution_count": null,
   "metadata": {},
   "outputs": [],
   "source": [
    "df_graph.date=pd.to_datetime(df_graph.date, format='%Y-%m-%d')"
   ]
  },
  {
   "cell_type": "code",
   "execution_count": null,
   "metadata": {},
   "outputs": [],
   "source": [
    "df_graph['year'] = df_graph.date.apply(get_year)"
   ]
  },
  {
   "cell_type": "code",
   "execution_count": null,
   "metadata": {},
   "outputs": [],
   "source": [
    "df_graph2 = pd.DataFrame(df_graph.groupby(['month','year','trap'],as_index=False)['nummosquitos'].sum())"
   ]
  },
  {
   "cell_type": "code",
   "execution_count": null,
   "metadata": {},
   "outputs": [],
   "source": [
    "df_graph2.shape"
   ]
  },
  {
   "cell_type": "code",
   "execution_count": null,
   "metadata": {},
   "outputs": [],
   "source": [
    "df_graph4 = pd.DataFrame(df_graph.groupby(['month','year','trap'],as_index=False)['wnvpresent'].sum())\n",
    "df_graph4.shape"
   ]
  },
  {
   "cell_type": "code",
   "execution_count": null,
   "metadata": {},
   "outputs": [],
   "source": [
    "df_graph2['wnvpresent']=df_graph4.wnvpresent\n",
    "df_graph2[df_graph2['wnvpresent']>1].head()"
   ]
  },
  {
   "cell_type": "code",
   "execution_count": null,
   "metadata": {},
   "outputs": [],
   "source": [
    "df_graph4 = pd.DataFrame(df_graph.groupby(['month','year','trap'],as_index=False)['latitude'].min())\n",
    "df_graph4.head()"
   ]
  },
  {
   "cell_type": "code",
   "execution_count": null,
   "metadata": {},
   "outputs": [],
   "source": [
    "df_graph2['latitude']=df_graph4.latitude"
   ]
  },
  {
   "cell_type": "code",
   "execution_count": null,
   "metadata": {},
   "outputs": [],
   "source": [
    "df_graph4 = pd.DataFrame(df_graph.groupby(['month','year','trap'],as_index=False)['longitude'].min())\n",
    "df_graph2['longitude']=df_graph4.longitude\n",
    "df_graph2.head()"
   ]
  },
  {
   "cell_type": "code",
   "execution_count": null,
   "metadata": {},
   "outputs": [],
   "source": [
    "df_graph4 = pd.DataFrame(df_graph.groupby(['month','year','trap'],as_index=False)['species'].apply(lambda x: \"%s\" % ', '.join(x)))\n",
    "df_graph4.reset_index(inplace=True)\n",
    "df_graph4.rename(columns={0:'species'},inplace=True)\n",
    "#df_graph4.head()\n",
    "df_graph2['species']=df_graph4['species']\n",
    "df_graph2.head()"
   ]
  },
  {
   "cell_type": "code",
   "execution_count": null,
   "metadata": {},
   "outputs": [],
   "source": [
    "df_graph2.to_csv('./data/bokeh_monthly.csv',index=False)"
   ]
  },
  {
   "cell_type": "code",
   "execution_count": null,
   "metadata": {},
   "outputs": [],
   "source": [
    "df_bokeh = pd.read_csv('./data/bokeh_monthly.csv')"
   ]
  },
  {
   "cell_type": "code",
   "execution_count": null,
   "metadata": {},
   "outputs": [],
   "source": [
    "df_bokeh.sort_values(by=['year','month'],inplace=True)"
   ]
  },
  {
   "cell_type": "code",
   "execution_count": null,
   "metadata": {},
   "outputs": [],
   "source": [
    "df_bokeh['month_year'] = tuple(zip(df_bokeh['month'], df_bokeh['year']))\n",
    "\n",
    "df_bokeh['month_year'] = df_bokeh['month_year'].factorize()[0]"
   ]
  },
  {
   "cell_type": "code",
   "execution_count": null,
   "metadata": {},
   "outputs": [],
   "source": [
    "df_bokeh.tail(100)"
   ]
  },
  {
   "cell_type": "code",
   "execution_count": null,
   "metadata": {},
   "outputs": [],
   "source": [
    "df_bokeh.to_csv('./data/bokeh_monthly2.csv',index=False)"
   ]
  },
  {
   "cell_type": "code",
   "execution_count": null,
   "metadata": {},
   "outputs": [],
   "source": [
    "df_bokeh = pd.read_csv('./data/bokeh_monthly2.csv')"
   ]
  },
  {
   "cell_type": "code",
   "execution_count": null,
   "metadata": {},
   "outputs": [],
   "source": [
    "from bokeh.io import output_notebook, show\n",
    "output_notebook()\n",
    "import os\n",
    "from ipywidgets import interact\n",
    "from bokeh.models import GMapOptions\n",
    "from bokeh.plotting import gmap\n",
    "from bokeh.models import ColumnDataSource\n",
    "from bokeh.models import HoverTool\n",
    "from bokeh.models import LinearInterpolator, CategoricalColorMapper,LinearColorMapper\n",
    "from bokeh.layouts import widgetbox\n",
    "from bokeh.models.widgets import Slider\n",
    "from bokeh.palettes import PuBu, Oranges\n",
    "\n",
    "size_mapper = LinearInterpolator(x=[df_bokeh.wnvpresent.min(),df_bokeh.wnvpresent.max()],\n",
    "                                y=[5,50])\n",
    "\n",
    "color_mapper = LinearColorMapper(palette=Oranges[9],\n",
    "                                 high=df_bokeh.wnvpresent.min(),\n",
    "                                 low=df_bokeh.wnvpresent.max())\n",
    "\n",
    "from ipywidgets import interact\n",
    "from bokeh.io import push_notebook\n",
    "#data1=ColumnDataSource(df_bokeh)\n",
    "\n",
    "    #print('?')\n",
    "    \n",
    "#interact(update, m=(0,19,1))\n",
    "\n",
    "map_options = GMapOptions(lat=41.881832, lng=-87.623177, map_type=\"roadmap\", zoom=10)\n",
    "\n",
    "# Replace the value below with your personal API key:\n",
    "api_key = \"****************************\"\n",
    "\n",
    "\n",
    "hover = HoverTool(\n",
    "        tooltips=[\n",
    "            (\"Trap\",'@trap'),\n",
    "            (\"Species\",'@species'),\n",
    "            (\"Coordinates\", \"(@latitude{0.0000}, @longitude{0.0000})\"),\n",
    "        ]\n",
    "    )\n",
    "\n",
    "p = gmap(api_key, map_options, title=\"Chicago - West Nile Outbreak\")\n",
    "\n",
    "p.toolbar.active_inspect = [hover]\n",
    "\n",
    "#data1=ColumnDataSource(df_bokeh)\n",
    "\n",
    "data = dict(lat=df_bokeh.latitude.unique(),\n",
    "            lon=df_bokeh.longitude.unique(),\n",
    "            trap=df_bokeh.trap.unique(),\n",
    "            species=df_bokeh.species)\n",
    "\n",
    "#source=df_bokeh[df_bokeh.month_year==0]\n",
    "source=df_bokeh\n",
    "\n",
    "r = p.circle(x='longitude', y='latitude',\n",
    "         size={'field':'wnvpresent','transform':size_mapper},\n",
    "         fill_color={'field':'wnvpresent','transform':color_mapper},\n",
    "         fill_alpha=0.6,\n",
    "         source = df_bokeh[df_bokeh.month_year==5])\n",
    "#p.circle(x=\"lon\", y=\"lat\", size=10, fill_color=\"blue\", fill_alpha=0.6, source=data)\n",
    "p.add_tools(hover)\n",
    "#p.below=show(widgetbox(slider))\n",
    "#show(widgetbox(slider))\n",
    "\n",
    "#show(p,notebook_handle=True)\n",
    "\n",
    "def update(m):\n",
    "    #data = dict(lat=df_bokeh.loc[month_year].latitude,\n",
    "    #        lon=df_bokeh.loc[month_year].longitude,\n",
    "    #        trap=df_bokeh.loc[month_year].trap,\n",
    "    #        species=df_bokeh.loc[month_year].species)\n",
    "    #data1.data = data\n",
    "    r.data_source.data['longitude']=df_bokeh[df_bokeh.month_year==m]['longitude']\n",
    "    r.data_source.data['latitude']=df_bokeh[df_bokeh.month_year==m]['latitude']\n",
    "    r.data_source.data['wnvpresent']=df_bokeh[df_bokeh.month_year==m]['wnvpresent']\n",
    "    r.update\n",
    "    hover = HoverTool(\n",
    "        tooltips=[\n",
    "            (\"Trap\",'@trap'),\n",
    "            (\"Species\",'@species'),\n",
    "            (\"Coordinates\", \"(@latitude{0.0000}, @longitude{0.0000})\"),\n",
    "        ]\n",
    "    )\n",
    "    #p.add_tools(hover)\n",
    "    \n",
    "    #hover.update\n",
    "    #print(m)\n",
    "    #p.title.text=\"Chicago - West Nile Outbreak {}\".format\n",
    "    push_notebook()\n",
    "    \n",
    "interact(update, m=(0,19,1))\n",
    "    \n",
    "show(p,notebook_handle=True)"
   ]
  },
  {
   "cell_type": "code",
   "execution_count": null,
   "metadata": {},
   "outputs": [],
   "source": [
    "from bokeh.plotting import figure\n",
    "from bokeh.resources import CDN\n",
    "from bokeh.embed import file_html"
   ]
  },
  {
   "cell_type": "code",
   "execution_count": null,
   "metadata": {},
   "outputs": [],
   "source": [
    "html = file_html(p, CDN, \"my plot\")"
   ]
  },
  {
   "cell_type": "code",
   "execution_count": null,
   "metadata": {},
   "outputs": [],
   "source": [
    "Html_file= open(\"bokeh.html\",\"w\")\n",
    "Html_file.write(html)\n",
    "Html_file.close()\n",
    "\n",
    "\n",
    "html"
   ]
  },
  {
   "cell_type": "code",
   "execution_count": null,
   "metadata": {},
   "outputs": [],
   "source": [
    " hover.tooltips[0][1]"
   ]
  },
  {
   "cell_type": "code",
   "execution_count": null,
   "metadata": {},
   "outputs": [],
   "source": [
    "df_bokeh[df_bokeh.month_year==3]"
   ]
  },
  {
   "cell_type": "code",
   "execution_count": null,
   "metadata": {},
   "outputs": [],
   "source": []
  }
 ],
 "metadata": {
  "language_info": {
   "name": "python",
   "pygments_lexer": "ipython3"
  }
 },
 "nbformat": 4,
 "nbformat_minor": 2
}
